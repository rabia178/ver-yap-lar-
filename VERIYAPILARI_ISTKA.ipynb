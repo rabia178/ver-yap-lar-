{
  "nbformat": 4,
  "nbformat_minor": 0,
  "metadata": {
    "colab": {
      "provenance": []
    },
    "kernelspec": {
      "name": "python3",
      "display_name": "Python 3"
    },
    "language_info": {
      "name": "python"
    }
  },
  "cells": [
    {
      "cell_type": "code",
      "execution_count": null,
      "metadata": {
        "id": "AgwaSAG1x-xd"
      },
      "outputs": [],
      "source": []
    },
    {
      "cell_type": "markdown",
      "source": [],
      "metadata": {
        "id": "JIK8j68CyLTn"
      }
    },
    {
      "cell_type": "code",
      "source": [
        "print (\"merhaba,igü-istka/ders 3\")#print ekrana çıktı veren bir koddur"
      ],
      "metadata": {
        "colab": {
          "base_uri": "https://localhost:8080/"
        },
        "id": "JHSnNdZCyRUP",
        "outputId": "070b93f0-1e0e-4c8e-8d37-433736b014a8"
      },
      "execution_count": null,
      "outputs": [
        {
          "output_type": "stream",
          "name": "stdout",
          "text": [
            "merhaba,igü-istka/ders 3\n"
          ]
        }
      ]
    },
    {
      "cell_type": "code",
      "source": [
        "import sys #import pyhton programlama dilinde yazılıma kütüphane eklemeye yarayan bir kod blogudur\n",
        "print(sys.version)"
      ],
      "metadata": {
        "colab": {
          "base_uri": "https://localhost:8080/"
        },
        "id": "MoLKtGW6ywU2",
        "outputId": "96cfcb2b-94a0-420b-ec1b-35e94143f21c"
      },
      "execution_count": null,
      "outputs": [
        {
          "output_type": "stream",
          "name": "stdout",
          "text": [
            "3.10.12 (main, Jul 29 2024, 16:56:48) [GCC 11.4.0]\n"
          ]
        }
      ]
    },
    {
      "cell_type": "code",
      "source": [
        "from google.colab import drive# google colab -drive baglantısı\n",
        "drive.mount('/content/drive')"
      ],
      "metadata": {
        "colab": {
          "base_uri": "https://localhost:8080/"
        },
        "id": "NRUgBUdtzqJe",
        "outputId": "f29798ad-f52e-4b87-bf89-5a0a29a210d5"
      },
      "execution_count": null,
      "outputs": [
        {
          "output_type": "stream",
          "name": "stdout",
          "text": [
            "Mounted at /content/drive\n"
          ]
        }
      ]
    },
    {
      "cell_type": "code",
      "source": [
        "# if koşul yapısı\n",
        "x =10\n",
        "if x > 5 :\n",
        "  print(\"x sayısı 5 ten büyüktür\")"
      ],
      "metadata": {
        "colab": {
          "base_uri": "https://localhost:8080/"
        },
        "id": "nRI4upZp4kgT",
        "outputId": "cb7c3a79-81c7-4666-8ab9-527aa417f3f5"
      },
      "execution_count": null,
      "outputs": [
        {
          "output_type": "stream",
          "name": "stdout",
          "text": [
            "x sayısı 5 ten büyüktür\n"
          ]
        }
      ]
    },
    {
      "cell_type": "code",
      "source": [
        "# if-else koşulu yapısı\n",
        "x=3\n",
        "if x > 5:\n",
        " print(\"x, sayısı 5' ten büyüktür.\")\n",
        "else:\n",
        " print (\"x, 5 'ten küçük veya eşittir.\")"
      ],
      "metadata": {
        "colab": {
          "base_uri": "https://localhost:8080/"
        },
        "id": "fglQdSTu5wiT",
        "outputId": "69a3add3-14cf-4627-c067-728a4f5a48e0"
      },
      "execution_count": null,
      "outputs": [
        {
          "output_type": "stream",
          "name": "stdout",
          "text": [
            "x, 5 'ten küçük veya eşittir.\n"
          ]
        }
      ]
    },
    {
      "cell_type": "code",
      "source": [
        "\n",
        "x=8\n",
        "if x > 10:\n",
        "  print(\"x,10'dan büyüktür.\")\n",
        "elif x > 5:\n",
        "  print(\"x,10'dan küçük veya eşittir.\")\n",
        "else:\n",
        "  print(\"x,5 ten küçük veya eşittir\")"
      ],
      "metadata": {
        "colab": {
          "base_uri": "https://localhost:8080/"
        },
        "id": "QbwRo4Az7Okp",
        "outputId": "a6227bfd-ba00-4ba8-af11-44d05ea115b8"
      },
      "execution_count": null,
      "outputs": [
        {
          "output_type": "stream",
          "name": "stdout",
          "text": [
            "x,10'dan küçük veya eşittir.\n"
          ]
        }
      ]
    },
    {
      "cell_type": "code",
      "source": [
        "# mantıksal operatörler ve ile koşullar\n",
        "x=7\n",
        "y=3\n",
        "# 'and' öperatörü ile\n",
        "\n",
        "if x > 5 and y > 2:\n",
        "\n",
        "  print(\"x, 5'ten büyük ve y, 2'den büyüktür.\") # bu satır çalışır"
      ],
      "metadata": {
        "colab": {
          "base_uri": "https://localhost:8080/"
        },
        "id": "6SDMs6RNEIYq",
        "outputId": "fca5a625-d44d-40a0-a148-1a1a32e9d331"
      },
      "execution_count": null,
      "outputs": [
        {
          "output_type": "stream",
          "name": "stdout",
          "text": [
            "x, 5'ten büyük ve y, 2'den büyüktür.\n"
          ]
        }
      ]
    },
    {
      "cell_type": "code",
      "source": [
        "#'or' operatörü ile\n",
        "if x> 5 or y >5:\n",
        "  print( \"x, veya y, 5'ten büyüktür.\")"
      ],
      "metadata": {
        "colab": {
          "base_uri": "https://localhost:8080/"
        },
        "id": "MS0UjT2AGC6g",
        "outputId": "c8d11b5f-c127-4fe4-f32b-c22f00c41017"
      },
      "execution_count": null,
      "outputs": [
        {
          "output_type": "stream",
          "name": "stdout",
          "text": [
            "x, veya y, 5'ten büyüktür.\n"
          ]
        }
      ]
    },
    {
      "cell_type": "code",
      "source": [
        "# 'not ' operatörü ile\n",
        "if not(x >10):\n",
        "  print(\"x,10'dan büyüktür.\")"
      ],
      "metadata": {
        "colab": {
          "base_uri": "https://localhost:8080/"
        },
        "id": "z99Mk66NGvYJ",
        "outputId": "86f0b8fe-eca2-4ec0-aaa3-349b9012e8b5"
      },
      "execution_count": null,
      "outputs": [
        {
          "output_type": "stream",
          "name": "stdout",
          "text": [
            "x,10'dan büyüktür.\n"
          ]
        }
      ]
    },
    {
      "cell_type": "code",
      "source": [
        "notu=85 #not farkını gösterilecek...\n",
        "\n",
        "if notu>=90:\n",
        " print(\"harf notu :A\")\n",
        "elif notu >=80:\n",
        " print(\"harf notu :B\")\n",
        "elif NOTU> 70:\n",
        " print(\"Harf notu:C\")\n",
        "elif notu >= 60:\n",
        " print(\"Harf notu:D\")\n",
        "else :\n",
        " print(\"Harf notu:f\")"
      ],
      "metadata": {
        "colab": {
          "base_uri": "https://localhost:8080/"
        },
        "id": "oOLJgyzTHnQg",
        "outputId": "ac6e1124-a9fd-4460-e5f8-ea8f8834c2b9"
      },
      "execution_count": null,
      "outputs": [
        {
          "output_type": "stream",
          "name": "stdout",
          "text": [
            "harf notu :B\n"
          ]
        }
      ]
    },
    {
      "cell_type": "code",
      "source": [
        "# örnek 2: yaş kontrolü\n",
        "yas=20\n",
        "if yas <18:\n",
        " print (\"reşit degilsiniz\")\n",
        "elif yas<21:\n",
        " print (\"reşitsiniz ama içecek satın alamazsınız\")\n",
        "else:\n",
        " print(\"içeçek satın alamazsınız\")"
      ],
      "metadata": {
        "colab": {
          "base_uri": "https://localhost:8080/"
        },
        "id": "0qdyCpZ7KAek",
        "outputId": "b26d977b-6036-46d4-aff7-b6e1bc7c782a"
      },
      "execution_count": null,
      "outputs": [
        {
          "output_type": "stream",
          "name": "stdout",
          "text": [
            "reşitsiniz ama içecek satın alamazsınız\n"
          ]
        }
      ]
    }
  ]
}