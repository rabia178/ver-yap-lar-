{
  "nbformat": 4,
  "nbformat_minor": 0,
  "metadata": {
    "colab": {
      "provenance": []
    },
    "kernelspec": {
      "name": "python3",
      "display_name": "Python 3"
    },
    "language_info": {
      "name": "python"
    }
  },
  "cells": [
    {
      "cell_type": "code",
      "execution_count": null,
      "metadata": {
        "id": "VxDrhxH_0DA0"
      },
      "outputs": [],
      "source": []
    },
    {
      "cell_type": "markdown",
      "source": [],
      "metadata": {
        "id": "f3WE3bv09amr"
      }
    },
    {
      "cell_type": "code",
      "source": [
        "print(\"Merhaba, İGÜ - İSTKA / Ders 4\") # print ekrana çıktı veren bir koddur."
      ],
      "metadata": {
        "colab": {
          "base_uri": "https://localhost:8080/"
        },
        "id": "zCZ1aybe9pPi",
        "outputId": "806b18b5-6f99-4409-df65-c2d7e62f7830"
      },
      "execution_count": 1,
      "outputs": [
        {
          "output_type": "stream",
          "name": "stdout",
          "text": [
            "Merhaba, İGÜ - İSTKA / Ders 4\n"
          ]
        }
      ]
    },
    {
      "cell_type": "code",
      "source": [
        "import sys # import python programlama dilinde yazılıma kütüphane eklemeye yarayan bir kod blogudur.\n",
        "print(sys.version)"
      ],
      "metadata": {
        "colab": {
          "base_uri": "https://localhost:8080/"
        },
        "id": "knIZ90b99zDz",
        "outputId": "92fd1f62-410b-40ed-80fc-42fd217a6258"
      },
      "execution_count": 2,
      "outputs": [
        {
          "output_type": "stream",
          "name": "stdout",
          "text": [
            "3.10.12 (main, Jul 29 2024, 16:56:48) [GCC 11.4.0]\n"
          ]
        }
      ]
    },
    {
      "cell_type": "code",
      "source": [
        "import sys # import python programlama dilinde yazılıma kütüphane eklemeye yarayan bir kod blogudur.\n",
        "print(sys.version)"
      ],
      "metadata": {
        "colab": {
          "base_uri": "https://localhost:8080/"
        },
        "id": "boL-3gx096nL",
        "outputId": "67cd1aad-37e6-4e33-b3f6-5a3a87904373"
      },
      "execution_count": 3,
      "outputs": [
        {
          "output_type": "stream",
          "name": "stdout",
          "text": [
            "3.10.12 (main, Jul 29 2024, 16:56:48) [GCC 11.4.0]\n"
          ]
        }
      ]
    },
    {
      "cell_type": "code",
      "source": [],
      "metadata": {
        "id": "kDVoCLiU-njd"
      },
      "execution_count": null,
      "outputs": []
    },
    {
      "cell_type": "markdown",
      "source": [
        "PYTHON Döngü Yapıları\n",
        "\n",
        "Döngüler, belirli bir kod bölümünün birden fazla çalıştırmamıza olanak tanır. Döngüler, genellikle yazılımda tekrar eden işlemler için kullanılır.\n",
        "\n",
        "Döngü Türleri:\n",
        "\n",
        "for Döngüsü--> Belirli bir sıralama üzerinde iterasyon yapmak için kullanılır. Genellikle bir liste, dizi veya range fonksiyonu ile kullanılır.\n",
        "\n",
        "while Döngüsü--> Belirli bir koşul doğru olduğu sürece kod bloğunu çalıştırır.\n",
        "\n",
        "Döngü Kontrol Yapıları:\n",
        "\n",
        "break--> Döngüyü tamamen sonlandırır.\n",
        "continue--> Döngünün o anki tekrarı-iterasyonunu sonlandırır ve bir sonraki tekrara-iterasyona geçer.\n",
        "Döngü İçinde Döngü (İç İçe Döngüler):\n",
        "\n",
        "İç İçe for Döngüsü\n",
        "İç İçe while Döngüsü"
      ],
      "metadata": {
        "id": "WeJRNSysAwu_"
      }
    },
    {
      "cell_type": "code",
      "source": [
        "# for döngüsü örnegi:0'dan 4 'e kadar olan sayıların yazdırılması işlemidir\n",
        "for i in range(9):\n",
        "  print(i)"
      ],
      "metadata": {
        "colab": {
          "base_uri": "https://localhost:8080/"
        },
        "id": "63R3g53iA483",
        "outputId": "729cef68-4360-4418-bbf7-b7d03e90c611"
      },
      "execution_count": 9,
      "outputs": [
        {
          "output_type": "stream",
          "name": "stdout",
          "text": [
            "0\n",
            "1\n",
            "2\n",
            "3\n",
            "4\n",
            "5\n",
            "6\n",
            "7\n",
            "8\n"
          ]
        }
      ]
    },
    {
      "cell_type": "code",
      "source": [
        "#for döngüsü örnegi :alışveriş listesi olusturma\n",
        "liste=[\"elma,armut,muz\"]\n",
        "for alinacaklar in liste:\n",
        "  print(alinacaklar)"
      ],
      "metadata": {
        "colab": {
          "base_uri": "https://localhost:8080/"
        },
        "id": "GyiYAp3iBqU3",
        "outputId": "c881ab8e-d930-448d-8f0d-464367cf525a"
      },
      "execution_count": 11,
      "outputs": [
        {
          "output_type": "stream",
          "name": "stdout",
          "text": [
            "elma,armut,muz\n"
          ]
        }
      ]
    },
    {
      "cell_type": "code",
      "source": [
        "# for döngüsü örnegi: bir sınıftaki ögrencilerin notlarının ortalamasını hsaplama\n",
        "notlar=[85,92,78,90,88]\n",
        "toplam=0\n",
        "for sayi in notlar:\n",
        "  toplam+=sayi\n",
        "  ortalama=toplam/len(notlar)\n",
        "  print(\"birinci print-> not ortalaması :\",ortalama)"
      ],
      "metadata": {
        "colab": {
          "base_uri": "https://localhost:8080/"
        },
        "id": "IzQIUUWeCozh",
        "outputId": "b49c66be-43c7-48df-a9db-2e546ee51f65"
      },
      "execution_count": 12,
      "outputs": [
        {
          "output_type": "stream",
          "name": "stdout",
          "text": [
            "birinci print-> not ortalaması : 17.0\n",
            "birinci print-> not ortalaması : 35.4\n",
            "birinci print-> not ortalaması : 51.0\n",
            "birinci print-> not ortalaması : 69.0\n",
            "birinci print-> not ortalaması : 86.6\n"
          ]
        }
      ]
    },
    {
      "cell_type": "code",
      "source": [
        "#while döngüsü örnegi:0'dan 4'e kadar olan sayıları yazdırılması işlemidir\n",
        "i=0\n",
        "while i<5:\n",
        "  print (i)\n",
        "  i+=1\n",
        "\n"
      ],
      "metadata": {
        "colab": {
          "base_uri": "https://localhost:8080/"
        },
        "id": "foPLt4CLEif7",
        "outputId": "ef6bbaba-cf07-490a-a89e-f7aee77ef370"
      },
      "execution_count": 14,
      "outputs": [
        {
          "output_type": "stream",
          "name": "stdout",
          "text": [
            "0\n",
            "1\n",
            "2\n",
            "3\n",
            "4\n"
          ]
        }
      ]
    },
    {
      "cell_type": "code",
      "source": [
        "# break örneği: 3'e ulaştığında döngü sonlandıran kod blogudur.\n",
        "for i in range (5):\n",
        "    if i==3:\n",
        "      continue\n",
        "    print(i)\n",
        "\n"
      ],
      "metadata": {
        "colab": {
          "base_uri": "https://localhost:8080/"
        },
        "id": "C3637Si0FmST",
        "outputId": "32ff5ae8-22b3-4c63-ddd5-4dc4ddce7091"
      },
      "execution_count": 20,
      "outputs": [
        {
          "output_type": "stream",
          "name": "stdout",
          "text": [
            "0\n",
            "1\n",
            "2\n",
            "4\n"
          ]
        }
      ]
    },
    {
      "cell_type": "code",
      "source": [
        "#iç içe for döngüsü örnegi: 2 boyutlu bir matrisin elemanları üzerinden işlemler\n",
        "matris=[\n",
        " [1, 2, 3],\n",
        " [4, 5, 6],\n",
        " [7, 8, 9],\n",
        "]\n",
        "for x in matris:\n",
        "    for y in x:\n",
        "        print(y)\n",
        ""
      ],
      "metadata": {
        "colab": {
          "base_uri": "https://localhost:8080/"
        },
        "id": "evZ4JOzcMb3N",
        "outputId": "c00ba0b3-0a71-43c6-e8e8-1e6a7ca12c9e"
      },
      "execution_count": 24,
      "outputs": [
        {
          "output_type": "stream",
          "name": "stdout",
          "text": [
            "1\n",
            "2\n",
            "3\n",
            "4\n",
            "5\n",
            "6\n",
            "7\n",
            "8\n",
            "9\n"
          ]
        }
      ]
    },
    {
      "cell_type": "code",
      "source": [
        "# kullanıcıdan bir sayı alınması\n",
        "kullanici_girdisi = int(input(\"bir sayı girin:\"))\n",
        "\n",
        "#0'dan kullanıcı tarafından girilen sayısa sıralama yapma\n",
        "i=0\n",
        "while i<=kullanici_girdisi:\n",
        "    print(i)\n",
        "    i+=1"
      ],
      "metadata": {
        "colab": {
          "base_uri": "https://localhost:8080/"
        },
        "id": "8sx_mqmGPWkN",
        "outputId": "6c568fb1-e33e-4455-b724-f256bd0927f7"
      },
      "execution_count": 48,
      "outputs": [
        {
          "output_type": "stream",
          "name": "stdout",
          "text": [
            "bir sayı girin:4\n",
            "0\n",
            "1\n",
            "2\n",
            "3\n",
            "4\n"
          ]
        }
      ]
    },
    {
      "cell_type": "code",
      "source": [
        "\n",
        "# while döngüsü örneği: kullanıcı bakiye bilgisinin sorgulanması\n",
        "toplam_ucret = 2799\n",
        "while toplam_ucret > 0:\n",
        "    try:\n",
        "        celilen_tutar = int(input(\"Çekmek istediğiniz miktarı girin: \"))\n",
        "        if celilen_tutar > toplam_ucret:\n",
        "            print(\"Yetersiz bakiye!\")\n",
        "            bilgi = input(\"İşleme devam etmek istiyor musunuz? (e/h): \").lower()\n",
        "            if bilgi == \"h\":\n",
        "                print(\"İşlem sonlandırıldı.\")\n",
        "                break\n",
        "        else:\n",
        "            toplam_ucret -= celilen_tutar\n",
        "            print(f\"Kalan bakiye: {toplam_ucret}\")\n",
        "        if toplam_ucret == 0:\n",
        "            print(\"Bakiye tükendi.\")\n",
        "            break\n",
        "    except ValueError:\n",
        "        print(\"Lütfen geçerli bir sayı girin!\")\n",
        ""
      ],
      "metadata": {
        "colab": {
          "base_uri": "https://localhost:8080/"
        },
        "id": "u29NPglfUnPk",
        "outputId": "81b9d561-2d33-4341-d42a-95b2b3a5bfc9"
      },
      "execution_count": 51,
      "outputs": [
        {
          "output_type": "stream",
          "name": "stdout",
          "text": [
            "Çekmek istediğiniz miktarı girin: 6000\n",
            "Yetersiz bakiye!\n",
            "İşleme devam etmek istiyor musunuz? (e/h): e\n",
            "Çekmek istediğiniz miktarı girin: 600\n",
            "Kalan bakiye: 2199\n",
            "Çekmek istediğiniz miktarı girin: 1500\n",
            "Kalan bakiye: 699\n",
            "Çekmek istediğiniz miktarı girin: \n",
            "Lütfen geçerli bir sayı girin!\n",
            "Çekmek istediğiniz miktarı girin: 96\n",
            "Kalan bakiye: 603\n",
            "Çekmek istediğiniz miktarı girin: 45\n",
            "Kalan bakiye: 558\n",
            "Çekmek istediğiniz miktarı girin: 100\n",
            "Kalan bakiye: 458\n",
            "Çekmek istediğiniz miktarı girin: 458\n",
            "Kalan bakiye: 0\n",
            "Bakiye tükendi.\n"
          ]
        }
      ]
    }
  ]
}
