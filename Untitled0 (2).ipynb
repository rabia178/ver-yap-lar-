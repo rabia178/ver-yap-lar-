{
  "nbformat": 4,
  "nbformat_minor": 0,
  "metadata": {
    "colab": {
      "provenance": []
    },
    "kernelspec": {
      "name": "python3",
      "display_name": "Python 3"
    },
    "language_info": {
      "name": "python"
    }
  },
  "cells": [
    {
      "cell_type": "code",
      "execution_count": null,
      "metadata": {
        "id": "YsDTxkm33ncG"
      },
      "outputs": [],
      "source": [
        "print(\"merhaba,igü-istka\\ders1\") # print ekrana çıktı veren bir koddur.\n",
        "import sys\n",
        "print(sys.version)#import phyton programlama dilinde yazılıma kütüphane eklemeye yarayan bir kod blogudur .\n",
        "print(sys.version)\n"
      ]
    },
    {
      "cell_type": "code",
      "source": [
        "from google.colab import drive #google -drive baglantısı\n",
        "drive.mount('/content/drive')\n",
        "import os\n",
        "\n",
        "os.chdir('/content/drive/My Drive/VERIYAPILARI_ISKA')"
      ],
      "metadata": {
        "colab": {
          "base_uri": "https://localhost:8080/"
        },
        "outputId": "5fe839b1-57f9-4ac8-af6f-8f40bd4126ef",
        "id": "drPDLjkJ-YaC"
      },
      "execution_count": 13,
      "outputs": [
        {
          "output_type": "stream",
          "name": "stdout",
          "text": [
            "Drive already mounted at /content/drive; to attempt to forcibly remount, call drive.mount(\"/content/drive\", force_remount=True).\n"
          ]
        }
      ]
    },
    {
      "cell_type": "code",
      "source": [],
      "metadata": {
        "id": "lWuxtSHA7xu0"
      },
      "execution_count": 13,
      "outputs": []
    },
    {
      "cell_type": "markdown",
      "source": [
        "19 agustos pazartesi  phyton ilk ders"
      ],
      "metadata": {
        "id": "0Xu2DFWT7NYa"
      }
    }
  ]
}