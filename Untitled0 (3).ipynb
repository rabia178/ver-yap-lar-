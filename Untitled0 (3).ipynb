{
  "nbformat": 4,
  "nbformat_minor": 0,
  "metadata": {
    "colab": {
      "provenance": []
    },
    "kernelspec": {
      "name": "python3",
      "display_name": "Python 3"
    },
    "language_info": {
      "name": "python"
    }
  },
  "cells": [
    {
      "cell_type": "code",
      "execution_count": null,
      "metadata": {
        "id": "YsDTxkm33ncG"
      },
      "outputs": [],
      "source": [
        "print(\"merhaba,igü-istka\\ders1\") # print ekrana çıktı veren bir koddur.\n",
        "import sys\n",
        "print(sys.version)#import phyton programlama dilinde yazılıma kütüphane eklemeye yarayan bir kod blogudur .\n",
        "print(sys.version)\n"
      ]
    },
    {
      "cell_type": "code",
      "source": [
        "from google.colab import drive #google -drive baglantısı\n",
        "drive.mount('/content/drive')\n",
        "import os\n",
        "\n",
        "os.chdir('/content/drive/My Drive/VERIYAPILARI_ISKA')"
      ],
      "metadata": {
        "colab": {
          "base_uri": "https://localhost:8080/"
        },
        "outputId": "5fe839b1-57f9-4ac8-af6f-8f40bd4126ef",
        "id": "drPDLjkJ-YaC"
      },
      "execution_count": null,
      "outputs": [
        {
          "output_type": "stream",
          "name": "stdout",
          "text": [
            "Drive already mounted at /content/drive; to attempt to forcibly remount, call drive.mount(\"/content/drive\", force_remount=True).\n"
          ]
        }
      ]
    },
    {
      "cell_type": "code",
      "source": [],
      "metadata": {
        "id": "lWuxtSHA7xu0"
      },
      "execution_count": null,
      "outputs": []
    },
    {
      "cell_type": "markdown",
      "source": [
        "19 agustos pazartesi  phyton ilk ders"
      ],
      "metadata": {
        "id": "0Xu2DFWT7NYa"
      }
    },
    {
      "cell_type": "markdown",
      "source": [
        "veri yapıları ders2\n"
      ],
      "metadata": {
        "id": "Q8sIpyFGuTWK"
      }
    },
    {
      "cell_type": "code",
      "source": [
        "# prompt: capitalized(rabia dicle kalkan)\n",
        "\n",
        "def capitalized(name):\n",
        "  return name.title()\n",
        "\n",
        "capitalized(\"rabia dicle kalkan\")\n"
      ],
      "metadata": {
        "colab": {
          "base_uri": "https://localhost:8080/",
          "height": 35
        },
        "id": "xG2m1M5nuadK",
        "outputId": "940f49e9-c2b8-4bc7-e94b-84af677f2ce0"
      },
      "execution_count": 2,
      "outputs": [
        {
          "output_type": "execute_result",
          "data": {
            "text/plain": [
              "'Rabia Dicle Kalkan'"
            ],
            "application/vnd.google.colaboratory.intrinsic+json": {
              "type": "string"
            }
          },
          "metadata": {},
          "execution_count": 2
        }
      ]
    },
    {
      "cell_type": "code",
      "source": [
        "#geçerli degişken tanımlanması\n",
        "degisken_1=10\n",
        "degişken2=20\n",
        "_degışken30=30\n",
        "\n",
        "\n"
      ],
      "metadata": {
        "id": "rE3kU6_Yvp7a"
      },
      "execution_count": 28,
      "outputs": []
    },
    {
      "cell_type": "code",
      "source": [
        "# degişken tanımlama\n",
        "x=5\n",
        "y=0\n",
        "z= \"yenildik\"\n",
        "print(x)\n",
        "print(y)\n",
        "print(z)"
      ],
      "metadata": {
        "colab": {
          "base_uri": "https://localhost:8080/"
        },
        "id": "deSbjJ27wWw5",
        "outputId": "1c74e7ce-9534-4af4-fb18-4d5214fb003b"
      },
      "execution_count": 27,
      "outputs": [
        {
          "output_type": "stream",
          "name": "stdout",
          "text": [
            "5\n",
            "0\n",
            "yenildik\n"
          ]
        }
      ]
    },
    {
      "cell_type": "code",
      "source": [
        "#float-ondaklı sayı tanımlaması\n",
        "b=20.5\n",
        "print(type(b))"
      ],
      "metadata": {
        "colab": {
          "base_uri": "https://localhost:8080/"
        },
        "id": "0PS9S7Cr6V1d",
        "outputId": "bb825090-7170-44b9-d5b7-e249143fa624"
      },
      "execution_count": 29,
      "outputs": [
        {
          "output_type": "stream",
          "name": "stdout",
          "text": [
            "<class 'float'>\n"
          ]
        }
      ]
    },
    {
      "cell_type": "code",
      "source": [
        "\n",
        "#integner-tamsayı tanımlaması\n",
        "a=10\n",
        "print(type(a))"
      ],
      "metadata": {
        "colab": {
          "base_uri": "https://localhost:8080/"
        },
        "id": "mZH3b5kC6wyF",
        "outputId": "47d3c834-a89f-49a7-eca5-341f1eeef01b"
      },
      "execution_count": 30,
      "outputs": [
        {
          "output_type": "stream",
          "name": "stdout",
          "text": [
            "<class 'int'>\n"
          ]
        }
      ]
    },
    {
      "cell_type": "code",
      "source": [
        "# float dan int çevrimin gerçeklestirilmesi\n",
        "a=12.34\n",
        "b =int(a)\n",
        "print(b,type(b))"
      ],
      "metadata": {
        "colab": {
          "base_uri": "https://localhost:8080/"
        },
        "id": "FTFOAlAJ7JAM",
        "outputId": "ba9e6d18-cc54-462e-87c9-e4ef2fd66e36"
      },
      "execution_count": 31,
      "outputs": [
        {
          "output_type": "stream",
          "name": "stdout",
          "text": [
            "12 <class 'int'>\n"
          ]
        }
      ]
    },
    {
      "cell_type": "code",
      "source": [
        "# string -metinsel içerik tanımlaması\n",
        "\n",
        "c=\"phyton dersleri\"\n",
        "print(c)\n",
        "print(type (c))"
      ],
      "metadata": {
        "colab": {
          "base_uri": "https://localhost:8080/"
        },
        "id": "i-Ivif1J7lFt",
        "outputId": "e863edca-939d-4100-8654-1e84dd7f0e4e"
      },
      "execution_count": 32,
      "outputs": [
        {
          "output_type": "stream",
          "name": "stdout",
          "text": [
            "phyton dersleri\n",
            "<class 'str'>\n"
          ]
        }
      ]
    },
    {
      "cell_type": "code",
      "source": [
        "# boolean (true-false)-dogru /yanlış tanımlaması\n",
        "d=True\n",
        "e=False\n",
        "print(d)\n",
        "print(type(e))"
      ],
      "metadata": {
        "colab": {
          "base_uri": "https://localhost:8080/"
        },
        "id": "VvJOXTwX8dnd",
        "outputId": "dc33a01a-3747-4867-9d51-9fce5345e5fa"
      },
      "execution_count": 33,
      "outputs": [
        {
          "output_type": "stream",
          "name": "stdout",
          "text": [
            "True\n",
            "<class 'bool'>\n"
          ]
        }
      ]
    },
    {
      "cell_type": "code",
      "source": [
        "#list-liste tanımlaması\n",
        "my_list=[1,2,3,4,5]\n",
        "print(type((my_list)))\n",
        "print(my_list)"
      ],
      "metadata": {
        "colab": {
          "base_uri": "https://localhost:8080/"
        },
        "id": "d74WZdd69WGs",
        "outputId": "62b8f7ae-3897-4c43-8293-3d408ed5fa95"
      },
      "execution_count": 35,
      "outputs": [
        {
          "output_type": "stream",
          "name": "stdout",
          "text": [
            "<class 'list'>\n",
            "[1, 2, 3, 4, 5]\n"
          ]
        }
      ]
    },
    {
      "cell_type": "code",
      "source": [
        "#tuple- demet tanımlamsı\n",
        "tuple=(1,2,3,4,5)\n",
        "print(type(tuple))\n",
        "print(tuple)"
      ],
      "metadata": {
        "colab": {
          "base_uri": "https://localhost:8080/"
        },
        "id": "QG3dUnn8-oKM",
        "outputId": "03095268-bdf9-4464-bad8-e1696847bb44"
      },
      "execution_count": 39,
      "outputs": [
        {
          "output_type": "stream",
          "name": "stdout",
          "text": [
            "<class 'tuple'>\n",
            "(1, 2, 3, 4, 5)\n"
          ]
        }
      ]
    },
    {
      "cell_type": "code",
      "source": [
        "# dictionary-sözlük örnegi -> ögrencilerin notlarını tutan sözlük\n",
        "notlar= {\n",
        "    \"ali\":85,\n",
        "    \"veli\":90,\n",
        "    \"mehmet\":100\n",
        "}\n",
        "notlar[\"fatma\"]=85\n",
        "print(notlar)"
      ],
      "metadata": {
        "colab": {
          "base_uri": "https://localhost:8080/"
        },
        "id": "P8k_N7wo_-gL",
        "outputId": "385ea612-2179-4806-d111-5481513cb2dd"
      },
      "execution_count": 60,
      "outputs": [
        {
          "output_type": "stream",
          "name": "stdout",
          "text": [
            "{'ali': 85, 'veli': 90, 'mehmet': 100, 'fatma': 85}\n"
          ]
        }
      ]
    },
    {
      "cell_type": "code",
      "source": [
        "#set-küme örnegi->bir yazılım etkinligine katılan oluşturdugu küme\n",
        "kodyazanlar=(\"ali\",\"veli\",\"ayşe\")\n",
        "kodyazmayanlar=(\"su\",\"naz\",\"ahmet\")\n",
        "print(kodyazanlar)\n",
        "print(kodyazmayanlar)"
      ],
      "metadata": {
        "colab": {
          "base_uri": "https://localhost:8080/"
        },
        "id": "nbDpP0dSChrj",
        "outputId": "e5ab67dc-d847-4b01-d3c0-1e9ba08661c4"
      },
      "execution_count": 67,
      "outputs": [
        {
          "output_type": "stream",
          "name": "stdout",
          "text": [
            "('ali', 'veli', 'ayşe')\n",
            "('su', 'naz', 'ahmet')\n"
          ]
        }
      ]
    },
    {
      "cell_type": "code",
      "source": [
        "giris=input(\"bir sayı girin:\")\n",
        "try:\n",
        " num=float(giris)\n",
        " print(f\"girilen sayı:{num},tipi:{type(num)},\",abs(num))\n",
        "except ValueError:\n",
        "  print(\"geçersiz giriş\")"
      ],
      "metadata": {
        "colab": {
          "base_uri": "https://localhost:8080/"
        },
        "id": "8KDecnVCETXR",
        "outputId": "525b46b0-e60e-4d35-a385-8f5ef9451923"
      },
      "execution_count": 77,
      "outputs": [
        {
          "output_type": "stream",
          "name": "stdout",
          "text": [
            "bir sayı girin:5\n",
            "girilen sayı:5.0,tipi:<class 'float'>, 5.0\n"
          ]
        }
      ]
    },
    {
      "cell_type": "code",
      "source": [
        "#0 ile1 arasında rastgele bir ondalık sayyı üretir\n",
        "import random\n",
        "rastgele_float=random.random ()\n",
        "print (\"rastgele deger:\",rastgele_float)"
      ],
      "metadata": {
        "colab": {
          "base_uri": "https://localhost:8080/"
        },
        "id": "i3YO0cBlGerR",
        "outputId": "a4c57950-f14c-431c-d3ec-c7ab785c95b3"
      },
      "execution_count": 79,
      "outputs": [
        {
          "output_type": "stream",
          "name": "stdout",
          "text": [
            "rastgele deger: 0.839501170344123\n"
          ]
        }
      ]
    }
  ]
}